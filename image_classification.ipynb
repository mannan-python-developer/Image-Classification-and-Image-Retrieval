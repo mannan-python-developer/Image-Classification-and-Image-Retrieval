{
 "cells": [
  {
   "cell_type": "markdown",
   "metadata": {},
   "source": [
    "<h2 style='color:blue' align='center'>Small Image Classification Using Convolutional Neural Network (CNN)</h2>"
   ]
  },
  {
   "cell_type": "code",
   "execution_count": 1,
   "metadata": {},
   "outputs": [
    {
     "name": "stdout",
     "output_type": "stream",
     "text": [
      "WARNING:tensorflow:From C:\\Users\\DELL\\AppData\\Roaming\\Python\\Python311\\site-packages\\keras\\src\\losses.py:2976: The name tf.losses.sparse_softmax_cross_entropy is deprecated. Please use tf.compat.v1.losses.sparse_softmax_cross_entropy instead.\n",
      "\n"
     ]
    }
   ],
   "source": [
    "import tensorflow as tf\n",
    "from tensorflow.keras import datasets\n",
    "import matplotlib.pyplot as plt\n",
    "import numpy as np"
   ]
  },
  {
   "cell_type": "markdown",
   "metadata": {},
   "source": [
    "<h4 style=\"color:purple\">Load the dataset</h4>"
   ]
  },
  {
   "cell_type": "code",
   "execution_count": 2,
   "metadata": {},
   "outputs": [
    {
     "data": {
      "text/plain": [
       "(50000, 32, 32, 3)"
      ]
     },
     "execution_count": 2,
     "metadata": {},
     "output_type": "execute_result"
    }
   ],
   "source": [
    "(X_train, y_train), (X_test,y_test) = datasets.cifar100.load_data()\n",
    "X_train.shape"
   ]
  },
  {
   "cell_type": "code",
   "execution_count": 3,
   "metadata": {},
   "outputs": [
    {
     "data": {
      "text/plain": [
       "(10000, 32, 32, 3)"
      ]
     },
     "execution_count": 3,
     "metadata": {},
     "output_type": "execute_result"
    }
   ],
   "source": [
    "X_test.shape"
   ]
  },
  {
   "cell_type": "markdown",
   "metadata": {},
   "source": [
    "Here we see there are 50000 training images and 1000 test images"
   ]
  },
  {
   "cell_type": "code",
   "execution_count": 4,
   "metadata": {},
   "outputs": [
    {
     "data": {
      "text/plain": [
       "(50000, 1)"
      ]
     },
     "execution_count": 4,
     "metadata": {},
     "output_type": "execute_result"
    }
   ],
   "source": [
    "y_train.shape"
   ]
  },
  {
   "cell_type": "code",
   "execution_count": 5,
   "metadata": {},
   "outputs": [
    {
     "data": {
      "text/plain": [
       "array([[19],\n",
       "       [29],\n",
       "       [ 0],\n",
       "       [11],\n",
       "       [ 1]])"
      ]
     },
     "execution_count": 5,
     "metadata": {},
     "output_type": "execute_result"
    }
   ],
   "source": [
    "y_train[:5]"
   ]
  },
  {
   "cell_type": "markdown",
   "metadata": {},
   "source": [
    "y_train is a 2D array, for our classification having 1D array is good enough. so we will convert this to now 1D array"
   ]
  },
  {
   "cell_type": "code",
   "execution_count": 6,
   "metadata": {
    "scrolled": true
   },
   "outputs": [
    {
     "data": {
      "text/plain": [
       "array([19, 29,  0, 11,  1])"
      ]
     },
     "execution_count": 6,
     "metadata": {},
     "output_type": "execute_result"
    }
   ],
   "source": [
    "y_train = y_train.reshape(-1,)\n",
    "y_train[:5]"
   ]
  },
  {
   "cell_type": "code",
   "execution_count": 7,
   "metadata": {},
   "outputs": [],
   "source": [
    "y_test = y_test.reshape(-1,)"
   ]
  },
  {
   "cell_type": "code",
   "execution_count": 8,
   "metadata": {},
   "outputs": [],
   "source": [
    "classes = [\n",
    "    \"apple\", \"aquarium_fish\", \"baby\", \"bear\", \"beaver\", \"bed\", \"bee\", \"beetle\", \"bicycle\", \"bottle\",\n",
    "    \"bowl\", \"boy\", \"bridge\", \"bus\", \"butterfly\", \"camel\", \"can\", \"castle\", \"caterpillar\", \"cattle\",\n",
    "    \"chair\", \"chimpanzee\", \"clock\", \"cloud\", \"cockroach\", \"couch\", \"crab\", \"crocodile\", \"cup\", \"dinosaur\",\n",
    "    \"dolphin\", \"elephant\", \"flatfish\", \"forest\", \"fox\", \"girl\", \"hamster\", \"house\", \"kangaroo\",\n",
    "    \"computer_keyboard\", \"lamp\", \"lawn_mower\", \"leopard\", \"lion\", \"lizard\", \"lobster\", \"man\", \"maple_tree\",\n",
    "    \"motorcycle\", \"mountain\", \"mouse\", \"mushroom\", \"oak_tree\", \"orange\", \"orchid\", \"otter\", \"palm_tree\",\n",
    "    \"pear\", \"pickup_truck\", \"pine_tree\", \"plain\", \"plate\", \"poppy\", \"porcupine\", \"possum\", \"rabbit\",\n",
    "    \"raccoon\", \"ray\", \"road\", \"rocket\", \"rose\", \"sea\", \"seal\", \"shark\", \"shrew\", \"skunk\",\n",
    "    \"skyscraper\", \"snail\", \"snake\", \"spider\", \"squirrel\", \"streetcar\", \"sunflower\", \"sweet_pepper\", \"table\",\n",
    "    \"tank\", \"telephone\", \"television\", \"tiger\", \"tractor\", \"train\", \"trout\", \"tulip\", \"turtle\",\n",
    "    \"wardrobe\", \"whale\", \"willow_tree\", \"wolf\", \"woman\", \"worm\"\n",
    "]\n"
   ]
  },
  {
   "cell_type": "code",
   "execution_count": 9,
   "metadata": {},
   "outputs": [],
   "source": [
    "def plot_sample(X, y, index, classes):\n",
    "    plt.figure(figsize=(15, 2))\n",
    "    plt.imshow(X[index])\n",
    "    plt.xlabel(classes[int(y[index])])  # Convert y[index] to integer before indexing classes\n",
    "    plt.show()"
   ]
  },
  {
   "cell_type": "code",
   "execution_count": 10,
   "metadata": {
    "scrolled": true
   },
   "outputs": [
    {
     "data": {
      "image/png": "[encoded data removed]",
      "text/plain": [
       "<Figure size 1500x200 with 1 Axes>"
      ]
     },
     "metadata": {},
     "output_type": "display_data"
    }
   ],
   "source": [
    "plot_sample(X_train, y_train, 0, classes)\n"
   ]
  },
  {
   "cell_type": "code",
   "execution_count": 11,
   "metadata": {},
   "outputs": [
    {
     "data": {
      "image/png": "[encoded data removed]",
      "text/plain": [
       "<Figure size 1500x200 with 1 Axes>"
      ]
     },
     "metadata": {},
     "output_type": "display_data"
    }
   ],
   "source": [
    "plot_sample(X_train, y_train, 1, classes)\n"
   ]
  },
  {
   "cell_type": "markdown",
   "metadata": {},
   "source": [
    "Normalize the images to a number from 0 to 1. Image has 3 channels (R,G,B) and each value in the channel can range from 0 to 255. Hence to normalize in 0-->1 range, we need to divide it by 255"
   ]
  },
  {
   "cell_type": "markdown",
   "metadata": {},
   "source": [
    "<h4 style=\"color:purple\">Normalizing the training data</h4>"
   ]
  },
  {
   "cell_type": "code",
   "execution_count": 12,
   "metadata": {},
   "outputs": [],
   "source": [
    "X_train = X_train / 255.0\n",
    "X_test = X_test / 255.0"
   ]
  },
  {
   "cell_type": "markdown",
   "metadata": {},
   "source": [
    "<h4 style=\"color:purple\">Now let us build a convolutional neural network to train our images</h4>"
   ]
  },
  {
   "cell_type": "code",
   "execution_count": 14,
   "metadata": {},
   "outputs": [
    {
     "name": "stderr",
     "output_type": "stream",
     "text": [
      "WARNING:absl:`lr` is deprecated in Keras optimizer, please use `learning_rate` or use the legacy optimizer, e.g.,tf.keras.optimizers.legacy.Adam.\n"
     ]
    },
    {
     "name": "stdout",
     "output_type": "stream",
     "text": [
      "Epoch 1/100\n",
      "782/781 [==============================] - ETA: 0s - loss: 4.0115 - accuracy: 0.1281\n",
      "Epoch 1: val_accuracy improved from -inf to 0.15990, saving model to best_model.h5\n",
      "781/781 [==============================] - 656s 836ms/step - loss: 4.0115 - accuracy: 0.1281 - val_loss: 3.7170 - val_accuracy: 0.1599 - lr: 0.0010\n",
      "Epoch 2/100\n",
      "782/781 [==============================] - ETA: 0s - loss: 3.1101 - accuracy: 0.2429\n",
      "Epoch 2: val_accuracy improved from 0.15990 to 0.31610, saving model to best_model.h5\n",
      "781/781 [==============================] - 648s 830ms/step - loss: 3.1101 - accuracy: 0.2429 - val_loss: 2.7171 - val_accuracy: 0.3161 - lr: 0.0010\n",
      "Epoch 3/100\n",
      "782/781 [==============================] - ETA: -6s - loss: 2.6883 - accuracy: 0.3200\n",
      "Epoch 3: val_accuracy improved from 0.31610 to 0.33720, saving model to best_model.h5\n",
      "781/781 [==============================] - 6791s 9s/step - loss: 2.6883 - accuracy: 0.3200 - val_loss: 2.5949 - val_accuracy: 0.3372 - lr: 0.0010\n",
      "Epoch 4/100\n",
      "782/781 [==============================] - ETA: 0s - loss: 2.4597 - accuracy: 0.3634\n",
      "Epoch 4: val_accuracy improved from 0.33720 to 0.43020, saving model to best_model.h5\n",
      "781/781 [==============================] - 669s 856ms/step - loss: 2.4597 - accuracy: 0.3634 - val_loss: 2.1941 - val_accuracy: 0.4302 - lr: 0.0010\n",
      "Epoch 5/100\n",
      "782/781 [==============================] - ETA: 0s - loss: 2.2881 - accuracy: 0.4010\n",
      "Epoch 5: val_accuracy did not improve from 0.43020\n",
      "781/781 [==============================] - 666s 853ms/step - loss: 2.2881 - accuracy: 0.4010 - val_loss: 2.3012 - val_accuracy: 0.4142 - lr: 0.0010\n",
      "Epoch 6/100\n",
      "782/781 [==============================] - ETA: 0s - loss: 2.1711 - accuracy: 0.4281\n",
      "Epoch 6: val_accuracy improved from 0.43020 to 0.43050, saving model to best_model.h5\n",
      "781/781 [==============================] - 711s 910ms/step - loss: 2.1711 - accuracy: 0.4281 - val_loss: 2.2152 - val_accuracy: 0.4305 - lr: 0.0010\n",
      "Epoch 7/100\n",
      "782/781 [==============================] - ETA: 0s - loss: 2.0717 - accuracy: 0.4452\n",
      "Epoch 7: val_accuracy improved from 0.43050 to 0.47840, saving model to best_model.h5\n",
      "781/781 [==============================] - 787s 1s/step - loss: 2.0717 - accuracy: 0.4452 - val_loss: 1.9709 - val_accuracy: 0.4784 - lr: 0.0010\n",
      "Epoch 8/100\n",
      "782/781 [==============================] - ETA: 0s - loss: 1.9966 - accuracy: 0.4643\n",
      "Epoch 8: val_accuracy improved from 0.47840 to 0.50510, saving model to best_model.h5\n",
      "781/781 [==============================] - 650s 832ms/step - loss: 1.9966 - accuracy: 0.4643 - val_loss: 1.8623 - val_accuracy: 0.5051 - lr: 0.0010\n",
      "Epoch 9/100\n",
      "782/781 [==============================] - ETA: 0s - loss: 1.9389 - accuracy: 0.4780\n",
      "Epoch 9: val_accuracy improved from 0.50510 to 0.52460, saving model to best_model.h5\n",
      "781/781 [==============================] - 671s 858ms/step - loss: 1.9389 - accuracy: 0.4780 - val_loss: 1.7973 - val_accuracy: 0.5246 - lr: 0.0010\n",
      "Epoch 10/100\n",
      "782/781 [==============================] - ETA: 0s - loss: 1.8761 - accuracy: 0.4919\n",
      "Epoch 10: val_accuracy did not improve from 0.52460\n",
      "781/781 [==============================] - 651s 834ms/step - loss: 1.8761 - accuracy: 0.4919 - val_loss: 1.9280 - val_accuracy: 0.4994 - lr: 0.0010\n",
      "Epoch 11/100\n",
      "782/781 [==============================] - ETA: 0s - loss: 1.8246 - accuracy: 0.5017\n",
      "Epoch 11: val_accuracy did not improve from 0.52460\n",
      "781/781 [==============================] - 677s 867ms/step - loss: 1.8246 - accuracy: 0.5017 - val_loss: 1.8267 - val_accuracy: 0.5136 - lr: 0.0010\n",
      "Epoch 12/100\n",
      "782/781 [==============================] - ETA: 0s - loss: 1.7761 - accuracy: 0.5148\n",
      "Epoch 12: val_accuracy did not improve from 0.52460\n",
      "781/781 [==============================] - 655s 839ms/step - loss: 1.7761 - accuracy: 0.5148 - val_loss: 1.8007 - val_accuracy: 0.5241 - lr: 0.0010\n",
      "Epoch 13/100\n",
      "782/781 [==============================] - ETA: 0s - loss: 1.6622 - accuracy: 0.5412\n",
      "Epoch 13: val_accuracy improved from 0.52460 to 0.54950, saving model to best_model.h5\n",
      "781/781 [==============================] - 651s 834ms/step - loss: 1.6622 - accuracy: 0.5412 - val_loss: 1.6812 - val_accuracy: 0.5495 - lr: 5.0000e-04\n",
      "Epoch 14/100\n",
      "782/781 [==============================] - ETA: 0s - loss: 1.6014 - accuracy: 0.5568\n",
      "Epoch 14: val_accuracy improved from 0.54950 to 0.56320, saving model to best_model.h5\n",
      "781/781 [==============================] - 652s 834ms/step - loss: 1.6014 - accuracy: 0.5568 - val_loss: 1.6311 - val_accuracy: 0.5632 - lr: 5.0000e-04\n",
      "Epoch 15/100\n",
      "782/781 [==============================] - ETA: 0s - loss: 1.5705 - accuracy: 0.5609\n",
      "Epoch 15: val_accuracy did not improve from 0.56320\n",
      "781/781 [==============================] - 661s 846ms/step - loss: 1.5705 - accuracy: 0.5609 - val_loss: 1.7152 - val_accuracy: 0.5498 - lr: 5.0000e-04\n",
      "Epoch 16/100\n",
      "782/781 [==============================] - ETA: 0s - loss: 1.5329 - accuracy: 0.5716\n",
      "Epoch 16: val_accuracy improved from 0.56320 to 0.57240, saving model to best_model.h5\n",
      "781/781 [==============================] - 665s 852ms/step - loss: 1.5329 - accuracy: 0.5716 - val_loss: 1.5715 - val_accuracy: 0.5724 - lr: 5.0000e-04\n",
      "Epoch 17/100\n",
      "782/781 [==============================] - ETA: 0s - loss: 1.5060 - accuracy: 0.5795\n",
      "Epoch 17: val_accuracy improved from 0.57240 to 0.58530, saving model to best_model.h5\n",
      "781/781 [==============================] - 656s 840ms/step - loss: 1.5060 - accuracy: 0.5795 - val_loss: 1.5382 - val_accuracy: 0.5853 - lr: 5.0000e-04\n",
      "Epoch 18/100\n",
      "782/781 [==============================] - ETA: 0s - loss: 1.4949 - accuracy: 0.5815\n",
      "Epoch 18: val_accuracy did not improve from 0.58530\n",
      "781/781 [==============================] - 652s 835ms/step - loss: 1.4949 - accuracy: 0.5815 - val_loss: 1.6315 - val_accuracy: 0.5663 - lr: 5.0000e-04\n",
      "Epoch 19/100\n",
      "782/781 [==============================] - ETA: 0s - loss: 1.4735 - accuracy: 0.5879\n",
      "Epoch 19: val_accuracy improved from 0.58530 to 0.58900, saving model to best_model.h5\n",
      "781/781 [==============================] - 653s 836ms/step - loss: 1.4735 - accuracy: 0.5879 - val_loss: 1.5352 - val_accuracy: 0.5890 - lr: 5.0000e-04\n",
      "Epoch 20/100\n",
      "782/781 [==============================] - ETA: 0s - loss: 1.4496 - accuracy: 0.5907\n",
      "Epoch 20: val_accuracy did not improve from 0.58900\n",
      "781/781 [==============================] - 651s 833ms/step - loss: 1.4496 - accuracy: 0.5907 - val_loss: 1.5542 - val_accuracy: 0.5852 - lr: 5.0000e-04\n",
      "Epoch 21/100\n",
      "782/781 [==============================] - ETA: 0s - loss: 1.4320 - accuracy: 0.5975\n",
      "Epoch 21: val_accuracy did not improve from 0.58900\n",
      "781/781 [==============================] - 651s 833ms/step - loss: 1.4320 - accuracy: 0.5975 - val_loss: 1.6884 - val_accuracy: 0.5598 - lr: 5.0000e-04\n",
      "Epoch 22/100\n",
      "782/781 [==============================] - ETA: 0s - loss: 1.4230 - accuracy: 0.5968\n",
      "Epoch 22: val_accuracy improved from 0.58900 to 0.59000, saving model to best_model.h5\n",
      "781/781 [==============================] - 655s 839ms/step - loss: 1.4230 - accuracy: 0.5968 - val_loss: 1.5268 - val_accuracy: 0.5900 - lr: 5.0000e-04\n",
      "Epoch 23/100\n",
      "782/781 [==============================] - ETA: 0s - loss: 1.4017 - accuracy: 0.6050\n",
      "Epoch 23: val_accuracy did not improve from 0.59000\n",
      "781/781 [==============================] - 653s 836ms/step - loss: 1.4017 - accuracy: 0.6050 - val_loss: 1.5400 - val_accuracy: 0.5886 - lr: 5.0000e-04\n",
      "Epoch 24/100\n",
      "782/781 [==============================] - ETA: 0s - loss: 1.3956 - accuracy: 0.6057\n",
      "Epoch 24: val_accuracy improved from 0.59000 to 0.59130, saving model to best_model.h5\n",
      "781/781 [==============================] - 652s 834ms/step - loss: 1.3956 - accuracy: 0.6057 - val_loss: 1.5234 - val_accuracy: 0.5913 - lr: 5.0000e-04\n",
      "Epoch 25/100\n",
      "782/781 [==============================] - ETA: 0s - loss: 1.3691 - accuracy: 0.6114\n",
      "Epoch 25: val_accuracy improved from 0.59130 to 0.59170, saving model to best_model.h5\n",
      "781/781 [==============================] - 652s 835ms/step - loss: 1.3691 - accuracy: 0.6114 - val_loss: 1.5399 - val_accuracy: 0.5917 - lr: 5.0000e-04\n",
      "Epoch 26/100\n",
      "782/781 [==============================] - ETA: 0s - loss: 1.3580 - accuracy: 0.6146\n",
      "Epoch 26: val_accuracy did not improve from 0.59170\n",
      "781/781 [==============================] - 653s 836ms/step - loss: 1.3580 - accuracy: 0.6146 - val_loss: 1.5392 - val_accuracy: 0.5892 - lr: 5.0000e-04\n",
      "Epoch 27/100\n",
      "782/781 [==============================] - ETA: 0s - loss: 1.3478 - accuracy: 0.6151\n",
      "Epoch 27: val_accuracy did not improve from 0.59170\n",
      "781/781 [==============================] - 654s 837ms/step - loss: 1.3478 - accuracy: 0.6151 - val_loss: 1.5858 - val_accuracy: 0.5775 - lr: 5.0000e-04\n",
      "Epoch 28/100\n",
      "782/781 [==============================] - ETA: 0s - loss: 1.2849 - accuracy: 0.6315\n",
      "Epoch 28: val_accuracy did not improve from 0.59170\n",
      "781/781 [==============================] - 652s 834ms/step - loss: 1.2849 - accuracy: 0.6315 - val_loss: 1.5263 - val_accuracy: 0.5908 - lr: 2.5000e-04\n",
      "Epoch 29/100\n",
      "782/781 [==============================] - ETA: 0s - loss: 1.2624 - accuracy: 0.6384\n",
      "Epoch 29: val_accuracy improved from 0.59170 to 0.61370, saving model to best_model.h5\n",
      "781/781 [==============================] - 653s 835ms/step - loss: 1.2624 - accuracy: 0.6384 - val_loss: 1.4474 - val_accuracy: 0.6137 - lr: 2.5000e-04\n",
      "Epoch 30/100\n",
      "782/781 [==============================] - ETA: 0s - loss: 1.2468 - accuracy: 0.6432\n",
      "Epoch 30: val_accuracy did not improve from 0.61370\n",
      "781/781 [==============================] - 654s 838ms/step - loss: 1.2468 - accuracy: 0.6432 - val_loss: 1.4605 - val_accuracy: 0.6083 - lr: 2.5000e-04\n",
      "Epoch 31/100\n",
      "782/781 [==============================] - ETA: 0s - loss: 1.2447 - accuracy: 0.6450\n",
      "Epoch 31: val_accuracy did not improve from 0.61370\n",
      "781/781 [==============================] - 655s 838ms/step - loss: 1.2447 - accuracy: 0.6450 - val_loss: 1.4753 - val_accuracy: 0.6049 - lr: 2.5000e-04\n",
      "Epoch 32/100\n",
      "782/781 [==============================] - ETA: 0s - loss: 1.2279 - accuracy: 0.6466\n",
      "Epoch 32: val_accuracy improved from 0.61370 to 0.61420, saving model to best_model.h5\n",
      "781/781 [==============================] - 656s 840ms/step - loss: 1.2279 - accuracy: 0.6466 - val_loss: 1.4429 - val_accuracy: 0.6142 - lr: 2.5000e-04\n",
      "Epoch 33/100\n",
      "782/781 [==============================] - ETA: 0s - loss: 1.2253 - accuracy: 0.6475\n",
      "Epoch 33: val_accuracy improved from 0.61420 to 0.61720, saving model to best_model.h5\n",
      "781/781 [==============================] - 650s 833ms/step - loss: 1.2253 - accuracy: 0.6475 - val_loss: 1.4329 - val_accuracy: 0.6172 - lr: 2.5000e-04\n",
      "Epoch 34/100\n",
      "782/781 [==============================] - ETA: 0s - loss: 1.2197 - accuracy: 0.6497\n",
      "Epoch 34: val_accuracy did not improve from 0.61720\n",
      "781/781 [==============================] - 659s 844ms/step - loss: 1.2197 - accuracy: 0.6497 - val_loss: 1.4321 - val_accuracy: 0.6148 - lr: 2.5000e-04\n",
      "Epoch 35/100\n",
      "782/781 [==============================] - ETA: 0s - loss: 1.2062 - accuracy: 0.6521\n",
      "Epoch 35: val_accuracy improved from 0.61720 to 0.61770, saving model to best_model.h5\n",
      "781/781 [==============================] - 671s 859ms/step - loss: 1.2062 - accuracy: 0.6521 - val_loss: 1.4379 - val_accuracy: 0.6177 - lr: 2.5000e-04\n",
      "Epoch 36/100\n",
      "108/781 [===>..........................] - ETA: 8:47 - loss: 1.2027 - accuracy: 0.6512"
     ]
    },
    {
     "ename": "KeyboardInterrupt",
     "evalue": "",
     "output_type": "error",
     "traceback": [
      "\u001b[1;31m---------------------------------------------------------------------------\u001b[0m",
      "\u001b[1;31mKeyboardInterrupt\u001b[0m                         Traceback (most recent call last)",
      "Cell \u001b[1;32mIn[14], line 51\u001b[0m\n\u001b[0;32m     48\u001b[0m checkpoint \u001b[38;5;241m=\u001b[39m ModelCheckpoint(\u001b[38;5;124m\"\u001b[39m\u001b[38;5;124mbest_model.h5\u001b[39m\u001b[38;5;124m\"\u001b[39m, monitor\u001b[38;5;241m=\u001b[39m\u001b[38;5;124m'\u001b[39m\u001b[38;5;124mval_accuracy\u001b[39m\u001b[38;5;124m'\u001b[39m, verbose\u001b[38;5;241m=\u001b[39m\u001b[38;5;241m1\u001b[39m, save_best_only\u001b[38;5;241m=\u001b[39m\u001b[38;5;28;01mTrue\u001b[39;00m, mode\u001b[38;5;241m=\u001b[39m\u001b[38;5;124m'\u001b[39m\u001b[38;5;124mmax\u001b[39m\u001b[38;5;124m'\u001b[39m)\n\u001b[0;32m     50\u001b[0m \u001b[38;5;66;03m# Train the model with data augmentation\u001b[39;00m\n\u001b[1;32m---> 51\u001b[0m history \u001b[38;5;241m=\u001b[39m \u001b[43mcnn\u001b[49m\u001b[38;5;241;43m.\u001b[39;49m\u001b[43mfit\u001b[49m\u001b[43m(\u001b[49m\n\u001b[0;32m     52\u001b[0m \u001b[43m    \u001b[49m\u001b[43mdatagen\u001b[49m\u001b[38;5;241;43m.\u001b[39;49m\u001b[43mflow\u001b[49m\u001b[43m(\u001b[49m\u001b[43mX_train\u001b[49m\u001b[43m,\u001b[49m\u001b[43m \u001b[49m\u001b[43my_train\u001b[49m\u001b[43m,\u001b[49m\u001b[43m \u001b[49m\u001b[43mbatch_size\u001b[49m\u001b[38;5;241;43m=\u001b[39;49m\u001b[38;5;241;43m64\u001b[39;49m\u001b[43m)\u001b[49m\u001b[43m,\u001b[49m\n\u001b[0;32m     53\u001b[0m \u001b[43m    \u001b[49m\u001b[43msteps_per_epoch\u001b[49m\u001b[38;5;241;43m=\u001b[39;49m\u001b[38;5;28;43mlen\u001b[39;49m\u001b[43m(\u001b[49m\u001b[43mX_train\u001b[49m\u001b[43m)\u001b[49m\u001b[43m \u001b[49m\u001b[38;5;241;43m/\u001b[39;49m\u001b[43m \u001b[49m\u001b[38;5;241;43m64\u001b[39;49m\u001b[43m,\u001b[49m\n\u001b[0;32m     54\u001b[0m \u001b[43m    \u001b[49m\u001b[43mepochs\u001b[49m\u001b[38;5;241;43m=\u001b[39;49m\u001b[38;5;241;43m100\u001b[39;49m\u001b[43m,\u001b[49m\u001b[43m  \u001b[49m\u001b[38;5;66;43;03m# Increase number of epochs\u001b[39;49;00m\n\u001b[0;32m     55\u001b[0m \u001b[43m    \u001b[49m\u001b[43mvalidation_data\u001b[49m\u001b[38;5;241;43m=\u001b[39;49m\u001b[43m(\u001b[49m\u001b[43mX_test\u001b[49m\u001b[43m,\u001b[49m\u001b[43m \u001b[49m\u001b[43my_test\u001b[49m\u001b[43m)\u001b[49m\u001b[43m,\u001b[49m\n\u001b[0;32m     56\u001b[0m \u001b[43m    \u001b[49m\u001b[43mcallbacks\u001b[49m\u001b[38;5;241;43m=\u001b[39;49m\u001b[43m[\u001b[49m\u001b[43mlr_scheduler\u001b[49m\u001b[43m,\u001b[49m\u001b[43m \u001b[49m\u001b[43mearly_stopping\u001b[49m\u001b[43m,\u001b[49m\u001b[43m \u001b[49m\u001b[43mcheckpoint\u001b[49m\u001b[43m]\u001b[49m\n\u001b[0;32m     57\u001b[0m \u001b[43m)\u001b[49m\n\u001b[0;32m     59\u001b[0m \u001b[38;5;66;03m# Evaluate the model\u001b[39;00m\n\u001b[0;32m     60\u001b[0m test_loss, test_acc \u001b[38;5;241m=\u001b[39m cnn\u001b[38;5;241m.\u001b[39mevaluate(X_test, y_test)\n",
      "File \u001b[1;32m~\\AppData\\Roaming\\Python\\Python311\\site-packages\\keras\\src\\utils\\traceback_utils.py:65\u001b[0m, in \u001b[0;36mfilter_traceback.<locals>.error_handler\u001b[1;34m(*args, **kwargs)\u001b[0m\n\u001b[0;32m     63\u001b[0m filtered_tb \u001b[38;5;241m=\u001b[39m \u001b[38;5;28;01mNone\u001b[39;00m\n\u001b[0;32m     64\u001b[0m \u001b[38;5;28;01mtry\u001b[39;00m:\n\u001b[1;32m---> 65\u001b[0m     \u001b[38;5;28;01mreturn\u001b[39;00m \u001b[43mfn\u001b[49m\u001b[43m(\u001b[49m\u001b[38;5;241;43m*\u001b[39;49m\u001b[43margs\u001b[49m\u001b[43m,\u001b[49m\u001b[43m \u001b[49m\u001b[38;5;241;43m*\u001b[39;49m\u001b[38;5;241;43m*\u001b[39;49m\u001b[43mkwargs\u001b[49m\u001b[43m)\u001b[49m\n\u001b[0;32m     66\u001b[0m \u001b[38;5;28;01mexcept\u001b[39;00m \u001b[38;5;167;01mException\u001b[39;00m \u001b[38;5;28;01mas\u001b[39;00m e:\n\u001b[0;32m     67\u001b[0m     filtered_tb \u001b[38;5;241m=\u001b[39m _process_traceback_frames(e\u001b[38;5;241m.\u001b[39m__traceback__)\n",
      "File \u001b[1;32m~\\AppData\\Roaming\\Python\\Python311\\site-packages\\keras\\src\\engine\\training.py:1807\u001b[0m, in \u001b[0;36mModel.fit\u001b[1;34m(self, x, y, batch_size, epochs, verbose, callbacks, validation_split, validation_data, shuffle, class_weight, sample_weight, initial_epoch, steps_per_epoch, validation_steps, validation_batch_size, validation_freq, max_queue_size, workers, use_multiprocessing)\u001b[0m\n\u001b[0;32m   1799\u001b[0m \u001b[38;5;28;01mwith\u001b[39;00m tf\u001b[38;5;241m.\u001b[39mprofiler\u001b[38;5;241m.\u001b[39mexperimental\u001b[38;5;241m.\u001b[39mTrace(\n\u001b[0;32m   1800\u001b[0m     \u001b[38;5;124m\"\u001b[39m\u001b[38;5;124mtrain\u001b[39m\u001b[38;5;124m\"\u001b[39m,\n\u001b[0;32m   1801\u001b[0m     epoch_num\u001b[38;5;241m=\u001b[39mepoch,\n\u001b[1;32m   (...)\u001b[0m\n\u001b[0;32m   1804\u001b[0m     _r\u001b[38;5;241m=\u001b[39m\u001b[38;5;241m1\u001b[39m,\n\u001b[0;32m   1805\u001b[0m ):\n\u001b[0;32m   1806\u001b[0m     callbacks\u001b[38;5;241m.\u001b[39mon_train_batch_begin(step)\n\u001b[1;32m-> 1807\u001b[0m     tmp_logs \u001b[38;5;241m=\u001b[39m \u001b[38;5;28;43mself\u001b[39;49m\u001b[38;5;241;43m.\u001b[39;49m\u001b[43mtrain_function\u001b[49m\u001b[43m(\u001b[49m\u001b[43miterator\u001b[49m\u001b[43m)\u001b[49m\n\u001b[0;32m   1808\u001b[0m     \u001b[38;5;28;01mif\u001b[39;00m data_handler\u001b[38;5;241m.\u001b[39mshould_sync:\n\u001b[0;32m   1809\u001b[0m         context\u001b[38;5;241m.\u001b[39masync_wait()\n",
      "File \u001b[1;32m~\\AppData\\Roaming\\Python\\Python311\\site-packages\\tensorflow\\python\\util\\traceback_utils.py:150\u001b[0m, in \u001b[0;36mfilter_traceback.<locals>.error_handler\u001b[1;34m(*args, **kwargs)\u001b[0m\n\u001b[0;32m    148\u001b[0m filtered_tb \u001b[38;5;241m=\u001b[39m \u001b[38;5;28;01mNone\u001b[39;00m\n\u001b[0;32m    149\u001b[0m \u001b[38;5;28;01mtry\u001b[39;00m:\n\u001b[1;32m--> 150\u001b[0m   \u001b[38;5;28;01mreturn\u001b[39;00m \u001b[43mfn\u001b[49m\u001b[43m(\u001b[49m\u001b[38;5;241;43m*\u001b[39;49m\u001b[43margs\u001b[49m\u001b[43m,\u001b[49m\u001b[43m \u001b[49m\u001b[38;5;241;43m*\u001b[39;49m\u001b[38;5;241;43m*\u001b[39;49m\u001b[43mkwargs\u001b[49m\u001b[43m)\u001b[49m\n\u001b[0;32m    151\u001b[0m \u001b[38;5;28;01mexcept\u001b[39;00m \u001b[38;5;167;01mException\u001b[39;00m \u001b[38;5;28;01mas\u001b[39;00m e:\n\u001b[0;32m    152\u001b[0m   filtered_tb \u001b[38;5;241m=\u001b[39m _process_traceback_frames(e\u001b[38;5;241m.\u001b[39m__traceback__)\n",
      "File \u001b[1;32m~\\AppData\\Roaming\\Python\\Python311\\site-packages\\tensorflow\\python\\eager\\polymorphic_function\\polymorphic_function.py:832\u001b[0m, in \u001b[0;36mFunction.__call__\u001b[1;34m(self, *args, **kwds)\u001b[0m\n\u001b[0;32m    829\u001b[0m compiler \u001b[38;5;241m=\u001b[39m \u001b[38;5;124m\"\u001b[39m\u001b[38;5;124mxla\u001b[39m\u001b[38;5;124m\"\u001b[39m \u001b[38;5;28;01mif\u001b[39;00m \u001b[38;5;28mself\u001b[39m\u001b[38;5;241m.\u001b[39m_jit_compile \u001b[38;5;28;01melse\u001b[39;00m \u001b[38;5;124m\"\u001b[39m\u001b[38;5;124mnonXla\u001b[39m\u001b[38;5;124m\"\u001b[39m\n\u001b[0;32m    831\u001b[0m \u001b[38;5;28;01mwith\u001b[39;00m OptionalXlaContext(\u001b[38;5;28mself\u001b[39m\u001b[38;5;241m.\u001b[39m_jit_compile):\n\u001b[1;32m--> 832\u001b[0m   result \u001b[38;5;241m=\u001b[39m \u001b[38;5;28;43mself\u001b[39;49m\u001b[38;5;241;43m.\u001b[39;49m\u001b[43m_call\u001b[49m\u001b[43m(\u001b[49m\u001b[38;5;241;43m*\u001b[39;49m\u001b[43margs\u001b[49m\u001b[43m,\u001b[49m\u001b[43m \u001b[49m\u001b[38;5;241;43m*\u001b[39;49m\u001b[38;5;241;43m*\u001b[39;49m\u001b[43mkwds\u001b[49m\u001b[43m)\u001b[49m\n\u001b[0;32m    834\u001b[0m new_tracing_count \u001b[38;5;241m=\u001b[39m \u001b[38;5;28mself\u001b[39m\u001b[38;5;241m.\u001b[39mexperimental_get_tracing_count()\n\u001b[0;32m    835\u001b[0m without_tracing \u001b[38;5;241m=\u001b[39m (tracing_count \u001b[38;5;241m==\u001b[39m new_tracing_count)\n",
      "File \u001b[1;32m~\\AppData\\Roaming\\Python\\Python311\\site-packages\\tensorflow\\python\\eager\\polymorphic_function\\polymorphic_function.py:868\u001b[0m, in \u001b[0;36mFunction._call\u001b[1;34m(self, *args, **kwds)\u001b[0m\n\u001b[0;32m    865\u001b[0m   \u001b[38;5;28mself\u001b[39m\u001b[38;5;241m.\u001b[39m_lock\u001b[38;5;241m.\u001b[39mrelease()\n\u001b[0;32m    866\u001b[0m   \u001b[38;5;66;03m# In this case we have created variables on the first call, so we run the\u001b[39;00m\n\u001b[0;32m    867\u001b[0m   \u001b[38;5;66;03m# defunned version which is guaranteed to never create variables.\u001b[39;00m\n\u001b[1;32m--> 868\u001b[0m   \u001b[38;5;28;01mreturn\u001b[39;00m \u001b[43mtracing_compilation\u001b[49m\u001b[38;5;241;43m.\u001b[39;49m\u001b[43mcall_function\u001b[49m\u001b[43m(\u001b[49m\n\u001b[0;32m    869\u001b[0m \u001b[43m      \u001b[49m\u001b[43margs\u001b[49m\u001b[43m,\u001b[49m\u001b[43m \u001b[49m\u001b[43mkwds\u001b[49m\u001b[43m,\u001b[49m\u001b[43m \u001b[49m\u001b[38;5;28;43mself\u001b[39;49m\u001b[38;5;241;43m.\u001b[39;49m\u001b[43m_no_variable_creation_config\u001b[49m\n\u001b[0;32m    870\u001b[0m \u001b[43m  \u001b[49m\u001b[43m)\u001b[49m\n\u001b[0;32m    871\u001b[0m \u001b[38;5;28;01melif\u001b[39;00m \u001b[38;5;28mself\u001b[39m\u001b[38;5;241m.\u001b[39m_variable_creation_config \u001b[38;5;129;01mis\u001b[39;00m \u001b[38;5;129;01mnot\u001b[39;00m \u001b[38;5;28;01mNone\u001b[39;00m:\n\u001b[0;32m    872\u001b[0m   \u001b[38;5;66;03m# Release the lock early so that multiple threads can perform the call\u001b[39;00m\n\u001b[0;32m    873\u001b[0m   \u001b[38;5;66;03m# in parallel.\u001b[39;00m\n\u001b[0;32m    874\u001b[0m   \u001b[38;5;28mself\u001b[39m\u001b[38;5;241m.\u001b[39m_lock\u001b[38;5;241m.\u001b[39mrelease()\n",
      "File \u001b[1;32m~\\AppData\\Roaming\\Python\\Python311\\site-packages\\tensorflow\\python\\eager\\polymorphic_function\\tracing_compilation.py:139\u001b[0m, in \u001b[0;36mcall_function\u001b[1;34m(args, kwargs, tracing_options)\u001b[0m\n\u001b[0;32m    137\u001b[0m bound_args \u001b[38;5;241m=\u001b[39m function\u001b[38;5;241m.\u001b[39mfunction_type\u001b[38;5;241m.\u001b[39mbind(\u001b[38;5;241m*\u001b[39margs, \u001b[38;5;241m*\u001b[39m\u001b[38;5;241m*\u001b[39mkwargs)\n\u001b[0;32m    138\u001b[0m flat_inputs \u001b[38;5;241m=\u001b[39m function\u001b[38;5;241m.\u001b[39mfunction_type\u001b[38;5;241m.\u001b[39munpack_inputs(bound_args)\n\u001b[1;32m--> 139\u001b[0m \u001b[38;5;28;01mreturn\u001b[39;00m \u001b[43mfunction\u001b[49m\u001b[38;5;241;43m.\u001b[39;49m\u001b[43m_call_flat\u001b[49m\u001b[43m(\u001b[49m\u001b[43m  \u001b[49m\u001b[38;5;66;43;03m# pylint: disable=protected-access\u001b[39;49;00m\n\u001b[0;32m    140\u001b[0m \u001b[43m    \u001b[49m\u001b[43mflat_inputs\u001b[49m\u001b[43m,\u001b[49m\u001b[43m \u001b[49m\u001b[43mcaptured_inputs\u001b[49m\u001b[38;5;241;43m=\u001b[39;49m\u001b[43mfunction\u001b[49m\u001b[38;5;241;43m.\u001b[39;49m\u001b[43mcaptured_inputs\u001b[49m\n\u001b[0;32m    141\u001b[0m \u001b[43m\u001b[49m\u001b[43m)\u001b[49m\n",
      "File \u001b[1;32m~\\AppData\\Roaming\\Python\\Python311\\site-packages\\tensorflow\\python\\eager\\polymorphic_function\\concrete_function.py:1323\u001b[0m, in \u001b[0;36mConcreteFunction._call_flat\u001b[1;34m(self, tensor_inputs, captured_inputs)\u001b[0m\n\u001b[0;32m   1319\u001b[0m possible_gradient_type \u001b[38;5;241m=\u001b[39m gradients_util\u001b[38;5;241m.\u001b[39mPossibleTapeGradientTypes(args)\n\u001b[0;32m   1320\u001b[0m \u001b[38;5;28;01mif\u001b[39;00m (possible_gradient_type \u001b[38;5;241m==\u001b[39m gradients_util\u001b[38;5;241m.\u001b[39mPOSSIBLE_GRADIENT_TYPES_NONE\n\u001b[0;32m   1321\u001b[0m     \u001b[38;5;129;01mand\u001b[39;00m executing_eagerly):\n\u001b[0;32m   1322\u001b[0m   \u001b[38;5;66;03m# No tape is watching; skip to running the function.\u001b[39;00m\n\u001b[1;32m-> 1323\u001b[0m   \u001b[38;5;28;01mreturn\u001b[39;00m \u001b[38;5;28;43mself\u001b[39;49m\u001b[38;5;241;43m.\u001b[39;49m\u001b[43m_inference_function\u001b[49m\u001b[38;5;241;43m.\u001b[39;49m\u001b[43mcall_preflattened\u001b[49m\u001b[43m(\u001b[49m\u001b[43margs\u001b[49m\u001b[43m)\u001b[49m\n\u001b[0;32m   1324\u001b[0m forward_backward \u001b[38;5;241m=\u001b[39m \u001b[38;5;28mself\u001b[39m\u001b[38;5;241m.\u001b[39m_select_forward_and_backward_functions(\n\u001b[0;32m   1325\u001b[0m     args,\n\u001b[0;32m   1326\u001b[0m     possible_gradient_type,\n\u001b[0;32m   1327\u001b[0m     executing_eagerly)\n\u001b[0;32m   1328\u001b[0m forward_function, args_with_tangents \u001b[38;5;241m=\u001b[39m forward_backward\u001b[38;5;241m.\u001b[39mforward()\n",
      "File \u001b[1;32m~\\AppData\\Roaming\\Python\\Python311\\site-packages\\tensorflow\\python\\eager\\polymorphic_function\\atomic_function.py:216\u001b[0m, in \u001b[0;36mAtomicFunction.call_preflattened\u001b[1;34m(self, args)\u001b[0m\n\u001b[0;32m    214\u001b[0m \u001b[38;5;28;01mdef\u001b[39;00m \u001b[38;5;21mcall_preflattened\u001b[39m(\u001b[38;5;28mself\u001b[39m, args: Sequence[core\u001b[38;5;241m.\u001b[39mTensor]) \u001b[38;5;241m-\u001b[39m\u001b[38;5;241m>\u001b[39m Any:\n\u001b[0;32m    215\u001b[0m \u001b[38;5;250m  \u001b[39m\u001b[38;5;124;03m\"\"\"Calls with flattened tensor inputs and returns the structured output.\"\"\"\u001b[39;00m\n\u001b[1;32m--> 216\u001b[0m   flat_outputs \u001b[38;5;241m=\u001b[39m \u001b[38;5;28;43mself\u001b[39;49m\u001b[38;5;241;43m.\u001b[39;49m\u001b[43mcall_flat\u001b[49m\u001b[43m(\u001b[49m\u001b[38;5;241;43m*\u001b[39;49m\u001b[43margs\u001b[49m\u001b[43m)\u001b[49m\n\u001b[0;32m    217\u001b[0m   \u001b[38;5;28;01mreturn\u001b[39;00m \u001b[38;5;28mself\u001b[39m\u001b[38;5;241m.\u001b[39mfunction_type\u001b[38;5;241m.\u001b[39mpack_output(flat_outputs)\n",
      "File \u001b[1;32m~\\AppData\\Roaming\\Python\\Python311\\site-packages\\tensorflow\\python\\eager\\polymorphic_function\\atomic_function.py:251\u001b[0m, in \u001b[0;36mAtomicFunction.call_flat\u001b[1;34m(self, *args)\u001b[0m\n\u001b[0;32m    249\u001b[0m \u001b[38;5;28;01mwith\u001b[39;00m record\u001b[38;5;241m.\u001b[39mstop_recording():\n\u001b[0;32m    250\u001b[0m   \u001b[38;5;28;01mif\u001b[39;00m \u001b[38;5;28mself\u001b[39m\u001b[38;5;241m.\u001b[39m_bound_context\u001b[38;5;241m.\u001b[39mexecuting_eagerly():\n\u001b[1;32m--> 251\u001b[0m     outputs \u001b[38;5;241m=\u001b[39m \u001b[38;5;28;43mself\u001b[39;49m\u001b[38;5;241;43m.\u001b[39;49m\u001b[43m_bound_context\u001b[49m\u001b[38;5;241;43m.\u001b[39;49m\u001b[43mcall_function\u001b[49m\u001b[43m(\u001b[49m\n\u001b[0;32m    252\u001b[0m \u001b[43m        \u001b[49m\u001b[38;5;28;43mself\u001b[39;49m\u001b[38;5;241;43m.\u001b[39;49m\u001b[43mname\u001b[49m\u001b[43m,\u001b[49m\n\u001b[0;32m    253\u001b[0m \u001b[43m        \u001b[49m\u001b[38;5;28;43mlist\u001b[39;49m\u001b[43m(\u001b[49m\u001b[43margs\u001b[49m\u001b[43m)\u001b[49m\u001b[43m,\u001b[49m\n\u001b[0;32m    254\u001b[0m \u001b[43m        \u001b[49m\u001b[38;5;28;43mlen\u001b[39;49m\u001b[43m(\u001b[49m\u001b[38;5;28;43mself\u001b[39;49m\u001b[38;5;241;43m.\u001b[39;49m\u001b[43mfunction_type\u001b[49m\u001b[38;5;241;43m.\u001b[39;49m\u001b[43mflat_outputs\u001b[49m\u001b[43m)\u001b[49m\u001b[43m,\u001b[49m\n\u001b[0;32m    255\u001b[0m \u001b[43m    \u001b[49m\u001b[43m)\u001b[49m\n\u001b[0;32m    256\u001b[0m   \u001b[38;5;28;01melse\u001b[39;00m:\n\u001b[0;32m    257\u001b[0m     outputs \u001b[38;5;241m=\u001b[39m make_call_op_in_graph(\n\u001b[0;32m    258\u001b[0m         \u001b[38;5;28mself\u001b[39m,\n\u001b[0;32m    259\u001b[0m         \u001b[38;5;28mlist\u001b[39m(args),\n\u001b[0;32m    260\u001b[0m         \u001b[38;5;28mself\u001b[39m\u001b[38;5;241m.\u001b[39m_bound_context\u001b[38;5;241m.\u001b[39mfunction_call_options\u001b[38;5;241m.\u001b[39mas_attrs(),\n\u001b[0;32m    261\u001b[0m     )\n",
      "File \u001b[1;32m~\\AppData\\Roaming\\Python\\Python311\\site-packages\\tensorflow\\python\\eager\\context.py:1486\u001b[0m, in \u001b[0;36mContext.call_function\u001b[1;34m(self, name, tensor_inputs, num_outputs)\u001b[0m\n\u001b[0;32m   1484\u001b[0m cancellation_context \u001b[38;5;241m=\u001b[39m cancellation\u001b[38;5;241m.\u001b[39mcontext()\n\u001b[0;32m   1485\u001b[0m \u001b[38;5;28;01mif\u001b[39;00m cancellation_context \u001b[38;5;129;01mis\u001b[39;00m \u001b[38;5;28;01mNone\u001b[39;00m:\n\u001b[1;32m-> 1486\u001b[0m   outputs \u001b[38;5;241m=\u001b[39m \u001b[43mexecute\u001b[49m\u001b[38;5;241;43m.\u001b[39;49m\u001b[43mexecute\u001b[49m\u001b[43m(\u001b[49m\n\u001b[0;32m   1487\u001b[0m \u001b[43m      \u001b[49m\u001b[43mname\u001b[49m\u001b[38;5;241;43m.\u001b[39;49m\u001b[43mdecode\u001b[49m\u001b[43m(\u001b[49m\u001b[38;5;124;43m\"\u001b[39;49m\u001b[38;5;124;43mutf-8\u001b[39;49m\u001b[38;5;124;43m\"\u001b[39;49m\u001b[43m)\u001b[49m\u001b[43m,\u001b[49m\n\u001b[0;32m   1488\u001b[0m \u001b[43m      \u001b[49m\u001b[43mnum_outputs\u001b[49m\u001b[38;5;241;43m=\u001b[39;49m\u001b[43mnum_outputs\u001b[49m\u001b[43m,\u001b[49m\n\u001b[0;32m   1489\u001b[0m \u001b[43m      \u001b[49m\u001b[43minputs\u001b[49m\u001b[38;5;241;43m=\u001b[39;49m\u001b[43mtensor_inputs\u001b[49m\u001b[43m,\u001b[49m\n\u001b[0;32m   1490\u001b[0m \u001b[43m      \u001b[49m\u001b[43mattrs\u001b[49m\u001b[38;5;241;43m=\u001b[39;49m\u001b[43mattrs\u001b[49m\u001b[43m,\u001b[49m\n\u001b[0;32m   1491\u001b[0m \u001b[43m      \u001b[49m\u001b[43mctx\u001b[49m\u001b[38;5;241;43m=\u001b[39;49m\u001b[38;5;28;43mself\u001b[39;49m\u001b[43m,\u001b[49m\n\u001b[0;32m   1492\u001b[0m \u001b[43m  \u001b[49m\u001b[43m)\u001b[49m\n\u001b[0;32m   1493\u001b[0m \u001b[38;5;28;01melse\u001b[39;00m:\n\u001b[0;32m   1494\u001b[0m   outputs \u001b[38;5;241m=\u001b[39m execute\u001b[38;5;241m.\u001b[39mexecute_with_cancellation(\n\u001b[0;32m   1495\u001b[0m       name\u001b[38;5;241m.\u001b[39mdecode(\u001b[38;5;124m\"\u001b[39m\u001b[38;5;124mutf-8\u001b[39m\u001b[38;5;124m\"\u001b[39m),\n\u001b[0;32m   1496\u001b[0m       num_outputs\u001b[38;5;241m=\u001b[39mnum_outputs,\n\u001b[1;32m   (...)\u001b[0m\n\u001b[0;32m   1500\u001b[0m       cancellation_manager\u001b[38;5;241m=\u001b[39mcancellation_context,\n\u001b[0;32m   1501\u001b[0m   )\n",
      "File \u001b[1;32m~\\AppData\\Roaming\\Python\\Python311\\site-packages\\tensorflow\\python\\eager\\execute.py:53\u001b[0m, in \u001b[0;36mquick_execute\u001b[1;34m(op_name, num_outputs, inputs, attrs, ctx, name)\u001b[0m\n\u001b[0;32m     51\u001b[0m \u001b[38;5;28;01mtry\u001b[39;00m:\n\u001b[0;32m     52\u001b[0m   ctx\u001b[38;5;241m.\u001b[39mensure_initialized()\n\u001b[1;32m---> 53\u001b[0m   tensors \u001b[38;5;241m=\u001b[39m \u001b[43mpywrap_tfe\u001b[49m\u001b[38;5;241;43m.\u001b[39;49m\u001b[43mTFE_Py_Execute\u001b[49m\u001b[43m(\u001b[49m\u001b[43mctx\u001b[49m\u001b[38;5;241;43m.\u001b[39;49m\u001b[43m_handle\u001b[49m\u001b[43m,\u001b[49m\u001b[43m \u001b[49m\u001b[43mdevice_name\u001b[49m\u001b[43m,\u001b[49m\u001b[43m \u001b[49m\u001b[43mop_name\u001b[49m\u001b[43m,\u001b[49m\n\u001b[0;32m     54\u001b[0m \u001b[43m                                      \u001b[49m\u001b[43minputs\u001b[49m\u001b[43m,\u001b[49m\u001b[43m \u001b[49m\u001b[43mattrs\u001b[49m\u001b[43m,\u001b[49m\u001b[43m \u001b[49m\u001b[43mnum_outputs\u001b[49m\u001b[43m)\u001b[49m\n\u001b[0;32m     55\u001b[0m \u001b[38;5;28;01mexcept\u001b[39;00m core\u001b[38;5;241m.\u001b[39m_NotOkStatusException \u001b[38;5;28;01mas\u001b[39;00m e:\n\u001b[0;32m     56\u001b[0m   \u001b[38;5;28;01mif\u001b[39;00m name \u001b[38;5;129;01mis\u001b[39;00m \u001b[38;5;129;01mnot\u001b[39;00m \u001b[38;5;28;01mNone\u001b[39;00m:\n",
      "\u001b[1;31mKeyboardInterrupt\u001b[0m: "
     ]
    }
   ],
   "source": [
    "from tensorflow.keras import models, layers, optimizers\n",
    "from tensorflow.keras.callbacks import ReduceLROnPlateau, EarlyStopping, ModelCheckpoint\n",
    "from tensorflow.keras.preprocessing.image import ImageDataGenerator\n",
    "\n",
    "# Define the CNN architecture\n",
    "cnn = models.Sequential([\n",
    "    layers.Conv2D(filters=32, kernel_size=(3, 3), activation='relu', input_shape=(32, 32, 3)),\n",
    "    layers.BatchNormalization(),\n",
    "    layers.Conv2D(filters=64, kernel_size=(3, 3), activation='relu'),\n",
    "    layers.BatchNormalization(),\n",
    "    layers.MaxPooling2D((2, 2)),\n",
    "    layers.Dropout(0.25),\n",
    "    \n",
    "    layers.Conv2D(filters=128, kernel_size=(3, 3), activation='relu'),\n",
    "    layers.BatchNormalization(),\n",
    "    layers.Conv2D(filters=256, kernel_size=(3, 3), activation='relu'),\n",
    "    layers.BatchNormalization(),\n",
    "    layers.MaxPooling2D((2, 2)),\n",
    "    layers.Dropout(0.25),\n",
    "    \n",
    "    layers.Flatten(),\n",
    "    layers.Dense(512, activation='relu'),\n",
    "    layers.BatchNormalization(),\n",
    "    layers.Dropout(0.5),\n",
    "    layers.Dense(100, activation='softmax')\n",
    "])\n",
    "\n",
    "# Data Augmentation\n",
    "datagen = ImageDataGenerator(\n",
    "    rotation_range=15,\n",
    "    width_shift_range=0.1,\n",
    "    height_shift_range=0.1,\n",
    "    horizontal_flip=True\n",
    ")\n",
    "\n",
    "# Compile the model\n",
    "cnn.compile(optimizer=optimizers.Adam(lr=0.001),  # Adjust learning rate here\n",
    "            loss='sparse_categorical_crossentropy',\n",
    "            metrics=['accuracy'])\n",
    "\n",
    "# Learning Rate Scheduler\n",
    "lr_scheduler = ReduceLROnPlateau(factor=0.5, patience=3, min_lr=1e-6)\n",
    "\n",
    "# Early Stopping\n",
    "early_stopping = EarlyStopping(monitor='val_loss', patience=5, restore_best_weights=True)\n",
    "\n",
    "# Model Checkpoint\n",
    "checkpoint = ModelCheckpoint(\"best_model.h5\", monitor='val_accuracy', verbose=1, save_best_only=True, mode='max')\n",
    "\n",
    "# Train the model with data augmentation\n",
    "history = cnn.fit(\n",
    "    datagen.flow(X_train, y_train, batch_size=64),\n",
    "    steps_per_epoch=len(X_train) / 64,\n",
    "    epochs=100,  # Increase number of epochs\n",
    "    validation_data=(X_test, y_test),\n",
    "    callbacks=[lr_scheduler, early_stopping, checkpoint]\n",
    ")\n",
    "\n",
    "# Evaluate the model\n",
    "test_loss, test_acc = cnn.evaluate(X_test, y_test)\n",
    "print(\"Test Accuracy:\", test_acc)\n"
   ]
  },
  {
   "cell_type": "code",
   "execution_count": 15,
   "metadata": {},
   "outputs": [
    {
     "name": "stdout",
     "output_type": "stream",
     "text": [
      "313/313 [==============================] - 52s 165ms/step - loss: 1.4835 - accuracy: 0.6014\n",
      "Test Accuracy: 0.6014000177383423\n"
     ]
    }
   ],
   "source": [
    "# Evaluate the model\n",
    "test_loss, test_acc = cnn.evaluate(X_test, y_test)\n",
    "print(\"Test Accuracy:\", test_acc)"
   ]
  },
  {
   "cell_type": "code",
   "execution_count": 16,
   "metadata": {},
   "outputs": [
    {
     "name": "stdout",
     "output_type": "stream",
     "text": [
      "313/313 [==============================] - 52s 166ms/step\n"
     ]
    },
    {
     "data": {
      "text/plain": [
       "array([[4.32408655e-07, 5.54802682e-06, 7.65022077e-03, 2.94475351e-04,\n",
       "        8.03165545e-04, 3.24245921e-05, 1.58697643e-04, 9.76007839e-04,\n",
       "        7.78425951e-03, 1.90339397e-05, 5.40782366e-06, 1.08475005e-03,\n",
       "        3.66431475e-01, 2.72737304e-03, 1.23929945e-04, 2.87506031e-04,\n",
       "        5.15557658e-05, 4.98649059e-03, 2.57516443e-03, 1.01906262e-05,\n",
       "        5.05139587e-06, 3.54299118e-04, 4.95234272e-04, 4.31224544e-05,\n",
       "        6.45209046e-04, 2.80770873e-05, 1.21112527e-04, 1.21403637e-03,\n",
       "        2.74785430e-06, 9.00565865e-05, 7.94753060e-02, 1.30699656e-04,\n",
       "        2.65364349e-03, 6.85793639e-05, 5.55703446e-05, 7.99752865e-03,\n",
       "        6.18091190e-06, 2.50932644e-03, 5.27944008e-04, 1.11594090e-04,\n",
       "        1.18828274e-03, 6.52940726e-05, 2.05110373e-05, 8.96159690e-05,\n",
       "        7.09606195e-03, 1.27905735e-03, 1.02945594e-02, 4.47727416e-06,\n",
       "        2.04627425e-03, 2.05639210e-02, 2.07732501e-05, 1.36163580e-05,\n",
       "        1.30709413e-05, 2.40186478e-06, 3.40566294e-05, 5.68551291e-03,\n",
       "        3.13611527e-04, 1.81285322e-05, 1.48294232e-04, 2.45372794e-04,\n",
       "        2.05407909e-04, 6.42459272e-05, 2.65484177e-05, 6.26096808e-05,\n",
       "        2.48774559e-05, 1.61519874e-05, 1.13192746e-05, 4.95034037e-05,\n",
       "        1.16869673e-01, 3.88342398e-03, 2.21740606e-06, 1.39792124e-03,\n",
       "        2.08632112e-03, 5.20101574e-04, 1.05257197e-04, 6.24216409e-06,\n",
       "        1.11103654e-02, 1.23207958e-03, 9.84678743e-04, 4.19418002e-03,\n",
       "        1.32148401e-04, 9.70766041e-03, 4.44778561e-05, 1.01499290e-06,\n",
       "        5.03247502e-05, 2.76486459e-03, 1.00764941e-04, 2.80273263e-04,\n",
       "        3.89065353e-05, 1.75688521e-03, 2.87516087e-01, 1.69414596e-03,\n",
       "        8.11332575e-06, 1.14480348e-03, 6.26961366e-07, 9.06605087e-03,\n",
       "        1.27223784e-05, 4.89288177e-05, 8.95429694e-04, 1.96379158e-04],\n",
       "       [1.50628546e-06, 1.86718280e-05, 4.99366542e-05, 4.87934612e-03,\n",
       "        9.79180564e-04, 5.19322421e-05, 3.13041637e-05, 1.06155319e-04,\n",
       "        6.49828173e-04, 1.30538782e-03, 3.24328721e-05, 4.79327391e-05,\n",
       "        6.09705178e-03, 4.58029972e-05, 1.74063352e-05, 3.19359533e-05,\n",
       "        1.06858148e-03, 4.45052079e-04, 1.62291899e-03, 8.12332873e-05,\n",
       "        1.70092210e-06, 3.84408602e-04, 1.58438852e-04, 1.05175539e-03,\n",
       "        2.30703563e-06, 7.88629550e-05, 4.17186202e-05, 1.12156547e-03,\n",
       "        3.96259071e-04, 2.23554802e-04, 4.08692031e-05, 4.35442152e-03,\n",
       "        1.01469297e-04, 7.69254386e-01, 1.56805199e-03, 1.70696469e-04,\n",
       "        3.86279644e-05, 1.21932710e-02, 1.49733415e-02, 2.46128966e-05,\n",
       "        5.96024220e-05, 1.19529168e-05, 7.03554414e-03, 2.78583248e-05,\n",
       "        1.04583705e-04, 6.85230130e-04, 8.07882025e-05, 1.18380215e-03,\n",
       "        1.15752027e-05, 1.06199659e-05, 7.87528581e-04, 3.43039464e-05,\n",
       "        2.05703749e-04, 3.51118274e-07, 4.59713465e-06, 6.41451275e-04,\n",
       "        1.83612981e-03, 2.78121606e-05, 1.19742174e-06, 8.01452920e-02,\n",
       "        1.66735608e-05, 9.82040183e-06, 1.60333605e-06, 5.56239393e-04,\n",
       "        1.66982572e-04, 8.75758100e-03, 3.87790846e-03, 7.48281236e-05,\n",
       "        2.25488729e-05, 1.73163789e-04, 1.02571039e-05, 2.28707257e-04,\n",
       "        4.47561833e-05, 7.12396213e-05, 7.26784056e-04, 9.57245993e-06,\n",
       "        5.31816731e-05, 2.00082723e-05, 3.83226114e-04, 3.25426715e-03,\n",
       "        1.25902584e-02, 1.17220625e-03, 1.59521223e-04, 1.06057155e-06,\n",
       "        2.07511173e-03, 1.37841844e-05, 1.81362395e-06, 2.29460547e-05,\n",
       "        2.84420606e-02, 1.83734286e-04, 6.06502999e-06, 4.96586435e-05,\n",
       "        8.56177792e-07, 1.32216646e-05, 1.18448646e-04, 5.95339088e-06,\n",
       "        1.01822885e-02, 9.70808882e-03, 4.84107004e-05, 1.05494270e-04],\n",
       "       [2.27755038e-07, 2.53603321e-05, 2.68570057e-06, 8.43108224e-04,\n",
       "        1.80280656e-02, 1.78375803e-08, 5.48347190e-04, 9.84740816e-03,\n",
       "        7.39903680e-06, 4.23507167e-08, 2.99526192e-07, 4.47390903e-06,\n",
       "        3.51861207e-04, 4.30442597e-05, 4.63276137e-06, 5.45932387e-04,\n",
       "        2.02503102e-07, 1.60085783e-05, 2.82004494e-02, 9.78143435e-05,\n",
       "        8.76108686e-07, 2.15651526e-05, 6.85146006e-06, 2.55503164e-06,\n",
       "        1.85396019e-02, 2.88373627e-07, 2.64046881e-02, 1.57979295e-01,\n",
       "        2.30303968e-07, 8.79179221e-04, 1.45204678e-01, 4.80445378e-05,\n",
       "        1.31885690e-05, 6.94748496e-06, 1.67342857e-03, 2.31682025e-05,\n",
       "        5.33197770e-08, 3.56577548e-05, 5.47599397e-04, 4.25195594e-07,\n",
       "        1.05116051e-05, 7.29457952e-08, 3.44328364e-05, 1.16482763e-04,\n",
       "        7.18038678e-02, 3.13430950e-02, 2.20643269e-05, 1.22511224e-07,\n",
       "        5.80151482e-06, 1.53030967e-04, 8.36470554e-06, 1.72334418e-04,\n",
       "        1.62819489e-07, 3.02826948e-07, 1.85808702e-08, 2.11508021e-01,\n",
       "        3.92909169e-06, 2.89739830e-07, 1.28246450e-06, 1.25288886e-06,\n",
       "        1.11032396e-05, 3.05418666e-07, 4.39189222e-07, 1.57687318e-05,\n",
       "        1.17934869e-05, 8.35603896e-06, 1.11973168e-05, 2.62846326e-04,\n",
       "        2.62537878e-06, 2.73031532e-04, 3.38512166e-07, 3.96384887e-04,\n",
       "        6.19837083e-02, 8.46028049e-03, 2.39368109e-03, 6.70895906e-06,\n",
       "        7.01526915e-06, 1.27056846e-03, 1.06755469e-03, 3.68425599e-03,\n",
       "        2.14461579e-05, 3.64611083e-06, 1.96382753e-05, 1.49498533e-07,\n",
       "        3.94622657e-06, 1.52115563e-05, 3.53962690e-08, 3.74927964e-07,\n",
       "        1.62017241e-04, 1.18644894e-05, 4.22505982e-04, 2.82294030e-04,\n",
       "        8.26807252e-07, 1.68687284e-01, 6.02983397e-09, 2.52704155e-02,\n",
       "        5.39226335e-07, 2.42889382e-05, 4.45236719e-06, 5.98956358e-05],\n",
       "       [1.03652596e-07, 3.26931911e-07, 8.11187704e-07, 2.95678115e-06,\n",
       "        3.91857102e-05, 5.07254470e-07, 3.76291993e-08, 7.51974127e-08,\n",
       "        2.38692177e-08, 1.43430668e-06, 3.37731362e-05, 8.07004017e-06,\n",
       "        2.15706328e-04, 5.49855795e-05, 1.44338651e-06, 1.13520900e-05,\n",
       "        2.85071746e-06, 4.95443055e-06, 1.46046186e-05, 2.69273914e-06,\n",
       "        1.04640267e-05, 3.09621009e-06, 3.43508473e-05, 3.57663197e-08,\n",
       "        1.45349006e-07, 7.00148394e-06, 3.04546779e-06, 2.10685503e-05,\n",
       "        9.35181833e-06, 3.04133227e-05, 2.05551919e-06, 5.76859247e-06,\n",
       "        1.44669377e-06, 1.53620422e-05, 4.59099556e-06, 5.07334380e-06,\n",
       "        1.24508324e-08, 3.05005160e-05, 1.02746872e-05, 2.89816342e-07,\n",
       "        8.28279124e-04, 1.25742076e-06, 5.52163738e-06, 1.57766891e-07,\n",
       "        3.88014196e-05, 1.10592353e-07, 2.52470113e-06, 1.41752125e-07,\n",
       "        1.28339551e-07, 1.89429699e-08, 6.55054066e-07, 9.96840358e-01,\n",
       "        4.20085975e-08, 1.56337592e-07, 6.62800232e-07, 8.96976635e-05,\n",
       "        3.77173507e-07, 2.64878963e-07, 1.06864391e-05, 1.03983689e-06,\n",
       "        3.14660213e-07, 4.07379389e-07, 6.10346945e-07, 1.26225586e-05,\n",
       "        7.78335561e-06, 3.30581940e-07, 2.12311170e-06, 2.53606657e-07,\n",
       "        6.17438474e-08, 3.45415458e-07, 5.15321176e-07, 7.03545254e-07,\n",
       "        1.02371005e-05, 9.30557417e-06, 2.05201777e-05, 3.10651643e-07,\n",
       "        7.38061885e-07, 5.32532540e-05, 1.68495990e-05, 3.42607898e-08,\n",
       "        8.05108357e-06, 6.61673839e-05, 1.18093325e-07, 6.21916854e-07,\n",
       "        2.19081703e-04, 3.67146936e-06, 4.47688535e-08, 6.67324343e-07,\n",
       "        4.61830979e-07, 1.39317444e-05, 8.35978790e-06, 1.10621413e-03,\n",
       "        9.68325480e-07, 1.43405905e-05, 4.79506525e-07, 8.74455452e-07,\n",
       "        2.23527465e-07, 2.41721477e-06, 1.10814369e-06, 3.84086616e-06],\n",
       "       [3.20875245e-07, 5.03399207e-08, 2.91624103e-09, 4.51503901e-09,\n",
       "        1.22289043e-06, 2.04411117e-06, 2.94085414e-08, 8.42792360e-08,\n",
       "        1.50071189e-09, 3.77352393e-07, 1.36638528e-06, 7.18735960e-09,\n",
       "        5.41982308e-06, 4.70964565e-08, 6.09797990e-10, 3.58401309e-07,\n",
       "        4.83585509e-08, 2.20040391e-07, 4.21510464e-07, 1.00267539e-06,\n",
       "        5.59918734e-09, 4.06029876e-09, 2.97987057e-08, 4.25115198e-01,\n",
       "        2.54814063e-06, 5.40786550e-06, 2.15623484e-08, 4.77482054e-09,\n",
       "        4.94677295e-07, 3.56005607e-08, 1.37496130e-07, 2.04915054e-07,\n",
       "        2.72545897e-08, 7.85989338e-04, 6.71427784e-08, 1.21515176e-09,\n",
       "        1.37974530e-08, 9.14645959e-09, 5.43022427e-09, 7.74904620e-08,\n",
       "        9.25013319e-06, 1.54780997e-11, 4.16884163e-08, 3.12517763e-08,\n",
       "        9.86235005e-09, 6.71097609e-07, 5.83123638e-09, 4.18005802e-04,\n",
       "        2.32505726e-09, 1.85949188e-02, 1.82939317e-08, 1.63460683e-07,\n",
       "        9.31702198e-06, 9.39328615e-08, 4.35419203e-08, 1.64338640e-08,\n",
       "        8.28454358e-05, 4.94441451e-07, 2.58206203e-08, 1.12480921e-05,\n",
       "        2.82640997e-02, 4.47688731e-09, 1.32983089e-07, 2.82403323e-09,\n",
       "        4.52467708e-09, 2.83509172e-09, 1.01184849e-09, 1.27483943e-08,\n",
       "        2.01135913e-06, 1.26521973e-05, 1.52351785e-08, 5.26627004e-01,\n",
       "        1.80615430e-07, 1.97937356e-06, 7.65596297e-08, 1.29725342e-09,\n",
       "        9.49647983e-06, 1.75128875e-07, 2.03330988e-08, 1.89514751e-07,\n",
       "        1.68041292e-09, 1.60350275e-08, 5.70368400e-07, 2.53505772e-09,\n",
       "        1.01223611e-06, 1.97557988e-08, 6.55589416e-10, 8.30924165e-08,\n",
       "        1.76523457e-07, 6.98825264e-09, 5.27428057e-08, 4.76798867e-08,\n",
       "        6.94476938e-08, 8.30475688e-09, 5.54760327e-08, 3.92949460e-06,\n",
       "        2.52441841e-05, 1.74738807e-10, 3.63468189e-09, 3.83588947e-08]],\n",
       "      dtype=float32)"
      ]
     },
     "execution_count": 16,
     "metadata": {},
     "output_type": "execute_result"
    }
   ],
   "source": [
    "y_pred = cnn.predict(X_test)\n",
    "y_pred[:5]"
   ]
  },
  {
   "cell_type": "code",
   "execution_count": 17,
   "metadata": {},
   "outputs": [],
   "source": [
    "# Assuming 'model' is your trained Keras model\n",
    "cnn.save(\"best_model.h5\")\n"
   ]
  },
  {
   "cell_type": "code",
   "execution_count": 1,
   "metadata": {},
   "outputs": [
    {
     "ename": "NameError",
     "evalue": "name 'y_pred' is not defined",
     "output_type": "error",
     "traceback": [
      "\u001b[1;31m---------------------------------------------------------------------------\u001b[0m",
      "\u001b[1;31mNameError\u001b[0m                                 Traceback (most recent call last)",
      "Cell \u001b[1;32mIn[1], line 1\u001b[0m\n\u001b[1;32m----> 1\u001b[0m y_classes \u001b[38;5;241m=\u001b[39m [np\u001b[38;5;241m.\u001b[39margmax(element) \u001b[38;5;28;01mfor\u001b[39;00m element \u001b[38;5;129;01min\u001b[39;00m \u001b[43my_pred\u001b[49m]\n\u001b[0;32m      2\u001b[0m y_classes[:\u001b[38;5;241m5\u001b[39m]\n",
      "\u001b[1;31mNameError\u001b[0m: name 'y_pred' is not defined"
     ]
    }
   ],
   "source": [
    "y_classes = [np.argmax(element) for element in y_pred]\n",
    "y_classes[:5]"
   ]
  },
  {
   "cell_type": "code",
   "execution_count": 19,
   "metadata": {},
   "outputs": [
    {
     "data": {
      "text/plain": [
       "array([49, 33, 72, 51, 71])"
      ]
     },
     "execution_count": 19,
     "metadata": {},
     "output_type": "execute_result"
    }
   ],
   "source": [
    "y_test[:5]"
   ]
  },
  {
   "cell_type": "code",
   "execution_count": 20,
   "metadata": {},
   "outputs": [
    {
     "data": {
      "image/png": "[encoded data removed]",
      "text/plain": [
       "<Figure size 1500x200 with 1 Axes>"
      ]
     },
     "metadata": {},
     "output_type": "display_data"
    }
   ],
   "source": [
    "plot_sample(X_test, y_test, 345, classes)\n"
   ]
  },
  {
   "cell_type": "code",
   "execution_count": 22,
   "metadata": {},
   "outputs": [
    {
     "data": {
      "text/plain": [
       "'raccoon'"
      ]
     },
     "execution_count": 22,
     "metadata": {},
     "output_type": "execute_result"
    }
   ],
   "source": [
    "classes[y_classes[345]]"
   ]
  },
  {
   "cell_type": "code",
   "execution_count": 4,
   "metadata": {},
   "outputs": [
    {
     "name": "stdout",
     "output_type": "stream",
     "text": [
      "Shape of training images: (50000, 32, 32, 3)\n",
      "Shape of training labels: (50000, 1)\n",
      "Similar Images:\n"
     ]
    },
    {
     "data": {
      "image/png": "[encoded data removed]",
      "text/plain": [
       "<Figure size 1500x200 with 1 Axes>"
      ]
     },
     "metadata": {},
     "output_type": "display_data"
    },
    {
     "data": {
      "image/png": "[encoded data removed]",
      "text/plain": [
       "<Figure size 1500x200 with 1 Axes>"
      ]
     },
     "metadata": {},
     "output_type": "display_data"
    },
    {
     "data": {
      "image/png": "[encoded data removed]",
      "text/plain": [
       "<Figure size 1500x200 with 1 Axes>"
      ]
     },
     "metadata": {},
     "output_type": "display_data"
    },
    {
     "data": {
      "image/png": "[encoded data removed]",
      "text/plain": [
       "<Figure size 1500x200 with 1 Axes>"
      ]
     },
     "metadata": {},
     "output_type": "display_data"
    },
    {
     "data": {
      "image/png": "[encoded data removed]",
      "text/plain": [
       "<Figure size 1500x200 with 1 Axes>"
      ]
     },
     "metadata": {},
     "output_type": "display_data"
    }
   ],
   "source": [
    "import numpy as np\n",
    "import tensorflow as tf\n",
    "from tensorflow.keras.models import load_model\n",
    "from tensorflow.keras.applications.vgg16 import preprocess_input\n",
    "from tensorflow.keras.preprocessing import image\n",
    "from scipy.spatial import distance\n",
    "import matplotlib.pyplot as plt\n",
    "\n",
    "# Load trained model\n",
    "model = load_model('best_model.h5')\n",
    "\n",
    "# Load CIFAR-100 dataset\n",
    "(train_images, train_labels), (_, _) = tf.keras.datasets.cifar100.load_data()\n",
    "\n",
    "# CIFAR-100 dataset mein total 100 classes hain\n",
    "num_classes = 100\n",
    "\n",
    "# Classes ka label information\n",
    "class_labels = [\n",
    "    'apple', 'aquarium_fish', 'baby', 'bear', 'beaver', 'bed', 'bee', 'beetle', 'bicycle', 'bottle',\n",
    "    'bowl', 'boy', 'bridge', 'bus', 'butterfly', 'camel', 'can', 'castle', 'caterpillar', 'cattle',\n",
    "    'chair', 'chimpanzee', 'clock', 'cloud', 'cockroach', 'couch', 'crab', 'crocodile', 'cup', 'dinosaur',\n",
    "    'dolphin', 'elephant', 'flatfish', 'forest', 'fox', 'girl', 'hamster', 'house', 'kangaroo', 'keyboard',\n",
    "    'lamp', 'lawn_mower', 'leopard', 'lion', 'lizard', 'lobster', 'man', 'maple_tree', 'motorcycle', 'mountain',\n",
    "    'mouse', 'mushroom', 'oak_tree', 'orange', 'orchid', 'otter', 'palm_tree', 'pear', 'pickup_truck', 'pine_tree',\n",
    "    'plain', 'plate', 'poppy', 'porcupine', 'possum', 'rabbit', 'raccoon', 'ray', 'road', 'rocket', 'rose',\n",
    "    'sea', 'seal', 'shark', 'shrew', 'skunk', 'skyscraper', 'snail', 'snake', 'spider', 'squirrel', 'streetcar',\n",
    "    'sunflower', 'sweet_pepper', 'table', 'tank', 'telephone', 'television', 'tiger', 'tractor', 'train', 'trout',\n",
    "    'tulip', 'turtle', 'wardrobe', 'whale', 'willow_tree', 'wolf', 'woman', 'worm'\n",
    "]\n",
    "\n",
    "# Shape of CIFAR-100 dataset\n",
    "print(\"Shape of training images:\", train_images.shape)\n",
    "print(\"Shape of training labels:\", train_labels.shape)\n",
    "\n",
    "\n",
    "# Function to preprocess image for prediction\n",
    "def preprocess_image(img):\n",
    "    if isinstance(img, str):  # Check if input is file path\n",
    "        img = image.load_img(img, target_size=(32, 32))\n",
    "    img_array = image.img_to_array(img)\n",
    "    img_array = np.expand_dims(img_array, axis=0)\n",
    "    img_array = preprocess_input(img_array)\n",
    "    return img_array\n",
    "\n",
    "\n",
    "# Function to extract features from images\n",
    "def extract_features(images):\n",
    "    features = []\n",
    "    for img_data in images:\n",
    "        preprocessed_img = preprocess_image(img_data)\n",
    "        # feature = model.predict(preprocessed_img).flatten()\n",
    "        features.append(preprocessed_img)\n",
    "    return np.array(features)\n",
    "\n",
    "\n",
    "# Function to find similar images\n",
    "def find_similar_images(query_img_path, dataset_images, top_k=5):\n",
    "    query_feature = extract_features([query_img_path])\n",
    "    dataset_features = extract_features(dataset_images)\n",
    "    query_feature = query_feature.flatten()  # Flatten the query feature\n",
    "    distances = []\n",
    "    for feature in dataset_features:\n",
    "        feature = feature.flatten()  # Flatten the dataset feature\n",
    "        dist = distance.cosine(query_feature, feature)\n",
    "        distances.append(dist)\n",
    "    indices = np.argsort(distances)[:top_k]\n",
    "    similar_images = [(dataset_images[i], train_labels[i][0]) for i in indices]\n",
    "    return similar_images\n",
    "\n",
    "\n",
    "# Function to plot a sample image with its class label\n",
    "def plot_sample(img, label, class_labels):\n",
    "    plt.figure(figsize=(15, 2))\n",
    "    plt.imshow(img)\n",
    "    plt.title(class_labels[label])\n",
    "    plt.axis('off')\n",
    "    plt.show()\n",
    "\n",
    "\n",
    "# Example usage\n",
    "query_image_path = '''G:\\\\Images\\\\pexels-pixabay-46160.jpg'''\n",
    "similar_images = find_similar_images(query_image_path, train_images, top_k=5)\n",
    "print(\"Similar Images:\")\n",
    "for img_array, label_idx in similar_images:\n",
    "    img = image.array_to_img(img_array)\n",
    "    plot_sample(img, label_idx, class_labels)\n"
   ]
  }
 ],
 "metadata": {
  "kernelspec": {
   "display_name": "Python 3 (ipykernel)",
   "language": "python",
   "name": "python3"
  },
  "language_info": {
   "codemirror_mode": {
    "name": "ipython",
    "version": 3
   },
   "file_extension": ".py",
   "mimetype": "text/x-python",
   "name": "python",
   "nbconvert_exporter": "python",
   "pygments_lexer": "ipython3",
   "version": "3.11.5"
  }
 },
 "nbformat": 4,
 "nbformat_minor": 4
}
